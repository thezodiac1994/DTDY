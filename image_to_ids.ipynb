{
 "cells": [
  {
   "cell_type": "code",
   "execution_count": 312,
   "metadata": {},
   "outputs": [],
   "source": [
    "from clarifai.rest import ClarifaiApp\n",
    "app = ClarifaiApp(api_key='97246cf0da164fd9963b504cccaca5ba')"
   ]
  },
  {
   "cell_type": "code",
   "execution_count": 316,
   "metadata": {},
   "outputs": [],
   "source": [
    "from clarifai.rest import Image as CImage\n",
    "import json\n",
    "\n",
    "\n",
    "\n",
    "# this function returns the ingredients queried on clarifai\n",
    "def get_ingreds(img_path,url_flag=1):\n",
    "    model = app.models.get('food-items-v1.0')\n",
    "    \n",
    "    image = None\n",
    "    if(not url_flag):\n",
    "        image = CImage(file_obj=open(img_path,'rb'))\n",
    "    else:\n",
    "        image = CImage(url=img_path)\n",
    "        \n",
    "    response = model.predict([image])\n",
    "    parsed_response = json.loads(json.dumps(response))\n",
    "\n",
    "    json_dict = parsed_response['outputs'][0]['data']['concepts']\n",
    "\n",
    "    for i in json_dict:\n",
    "        print(i)\n",
    "        \n",
    "    return json.dumps(json_dict)\n",
    "\n",
    "\n",
    "# this function returns matching recipe names for the given response \n",
    "\n",
    "def get_matching_recipes(json_resp, recipes, url_flag = 1):\n",
    "    \n",
    "    # define matchingrecipes as finding the word in the list of recipes with some modifications*\n",
    "    \n",
    "    parsed_response = json.loads(json_resp)\n",
    "    recipe_score = {}\n",
    "    \n",
    "    # apply tfidf --- read from offline file \n",
    "    tfidf = {}\n",
    "    with open('all_stop_words.txt', 'r') as F:\n",
    "        lines = F.readlines()\n",
    "        for line in lines:\n",
    "            words = line.replace('\\n', '').split(' ')\n",
    "            tfidf[words[0]] = int(words[1])\n",
    "    \n",
    "   # print(tfidf)\n",
    "    \n",
    "    for response in parsed_response:\n",
    "        search_words = response['name'].lower().replace('-',' ').split(' ')\n",
    "        #print('word in image :', search_words)\n",
    "        for word in search_words:\n",
    "            for ids,recipe_name in recipes.items():\n",
    "                keywords = recipe_name.lower().replace('-',' ').split(' ')\n",
    "                #print('recipe name is ', recipe_name)\n",
    "                #print('keywords in recipe: ', keywords)\n",
    "                if word in keywords:\n",
    "                    #print('found word = ' , word, 'include ', recipe_name)\n",
    "                    \n",
    "                    word_score = 0\n",
    "                    if(word in tfidf):\n",
    "                        word_score = 1/tfidf[word]\n",
    "                    else:\n",
    "                        word_score = 1\n",
    "                    \n",
    "                    if(ids in recipe_score):\n",
    "                        recipe_score[ids] += word_score\n",
    "                    else:\n",
    "                        recipe_score[ids] = word_score\n",
    "                \n",
    "                \n",
    "        \n",
    "    recipe_score = sorted(recipe_score.items(), key=lambda x: -x[1])\n",
    "    return recipe_score"
   ]
  },
  {
   "cell_type": "code",
   "execution_count": 317,
   "metadata": {},
   "outputs": [],
   "source": [
    "def predict_ids(imgpath, url_flag=1):\n",
    "    with open('recipes.json', 'r') as F:\n",
    "        json_recipes = json.load(F)\n",
    "\n",
    "    recipes = {}\n",
    "    for data in json_recipes['recipes']:\n",
    "        recipes[data['id']] = data['name']\n",
    "\n",
    "    #print(recipes)\n",
    "    matching_ids = get_matching_recipes(get_ingreds(imgpath,url_flag), recipes, url_flag)\n",
    "    return matching_ids[:5]  # return top 5"
   ]
  },
  {
   "cell_type": "code",
   "execution_count": 318,
   "metadata": {},
   "outputs": [
    {
     "name": "stdout",
     "output_type": "stream",
     "text": [
      "{'id': 'ai_69gDDQgl', 'name': 'hamburger', 'value': 0.9412627220153809, 'app_id': 'main'}\n",
      "{'id': 'ai_QLn2rxmZ', 'name': 'lettuce', 'value': 0.9400391578674316, 'app_id': 'main'}\n",
      "{'id': 'ai_CB8hsS3T', 'name': 'tomato', 'value': 0.9363461136817932, 'app_id': 'main'}\n",
      "{'id': 'ai_KF7Xcz9J', 'name': 'onion', 'value': 0.8969442844390869, 'app_id': 'main'}\n",
      "{'id': 'ai_rzQV6Hv6', 'name': 'falafel', 'value': 0.8760938048362732, 'app_id': 'main'}\n",
      "{'id': 'ai_25Wc02Fc', 'name': 'bun', 'value': 0.8486544489860535, 'app_id': 'main'}\n",
      "{'id': 'ai_FnZCSVMH', 'name': 'cheese', 'value': 0.8410243391990662, 'app_id': 'main'}\n",
      "{'id': 'ai_GC6FB0cQ', 'name': 'sauce', 'value': 0.8370276689529419, 'app_id': 'main'}\n",
      "{'id': 'ai_SqL5hFw6', 'name': 'arugula', 'value': 0.8349764347076416, 'app_id': 'main'}\n",
      "{'id': 'ai_XVpwLB09', 'name': 'beef', 'value': 0.8049886226654053, 'app_id': 'main'}\n",
      "{'id': 'ai_H2d8CVB7', 'name': 'salad', 'value': 0.6971393823623657, 'app_id': 'main'}\n",
      "{'id': 'ai_QrXHPz41', 'name': 'cumin', 'value': 0.6951852440834045, 'app_id': 'main'}\n",
      "{'id': 'ai_hR5Lll2p', 'name': 'cilantro', 'value': 0.6909389495849609, 'app_id': 'main'}\n",
      "{'id': 'ai_jvVxlhLh', 'name': 'chicken', 'value': 0.6897969245910645, 'app_id': 'main'}\n",
      "{'id': 'ai_KWmFf1fn', 'name': 'meat', 'value': 0.6793160438537598, 'app_id': 'main'}\n",
      "{'id': 'ai_6s1vcbq9', 'name': 'garlic', 'value': 0.5969521999359131, 'app_id': 'main'}\n",
      "{'id': 'ai_NhSzzDVx', 'name': 'sandwich', 'value': 0.5837727785110474, 'app_id': 'main'}\n",
      "{'id': 'ai_cGDcrTZ6', 'name': 'blue cheese', 'value': 0.580364465713501, 'app_id': 'main'}\n",
      "{'id': 'ai_2KV5G1Fg', 'name': 'basil', 'value': 0.5497747659683228, 'app_id': 'main'}\n",
      "{'id': 'ai_7dcVtHqc', 'name': 'lamb', 'value': 0.5368626117706299, 'app_id': 'main'}\n"
     ]
    },
    {
     "data": {
      "text/plain": [
       "[(21406, 1.0), (5388, 0.4), (4858, 0.4), (13870, 0.325), (20815, 0.25)]"
      ]
     },
     "execution_count": 318,
     "metadata": {},
     "output_type": "execute_result"
    }
   ],
   "source": [
    "#predict_ids('images/turkey_cranberry.jpg',url_flag = 0)\n",
    "#predict_ids('https://en.wikipedia.org/wiki/List_of_noodle_dishes#/media/File:Xing_hua_lor_mee.jpg',url_flag = 1)\n",
    "#predict_ids('https://upload.wikimedia.org/wikipedia/commons/4/4b/Baby-back_ribs.jpg',url_flag = 1)\n",
    "\n",
    "predict_ids('https://firebasestorage.googleapis.com/v0/b/ubhacking-221502.appspot.com/o/images%2FfoodImage.jpg?alt=media&token=941439d4-ef87-4d95-9fc9-72ecb118ec86',url_flag = 1)"
   ]
  },
  {
   "cell_type": "code",
   "execution_count": null,
   "metadata": {},
   "outputs": [],
   "source": []
  },
  {
   "cell_type": "code",
   "execution_count": null,
   "metadata": {},
   "outputs": [],
   "source": []
  }
 ],
 "metadata": {
  "kernelspec": {
   "display_name": "Python 3",
   "language": "python",
   "name": "python3"
  },
  "language_info": {
   "codemirror_mode": {
    "name": "ipython",
    "version": 3
   },
   "file_extension": ".py",
   "mimetype": "text/x-python",
   "name": "python",
   "nbconvert_exporter": "python",
   "pygments_lexer": "ipython3",
   "version": "3.6.6"
  }
 },
 "nbformat": 4,
 "nbformat_minor": 2
}
