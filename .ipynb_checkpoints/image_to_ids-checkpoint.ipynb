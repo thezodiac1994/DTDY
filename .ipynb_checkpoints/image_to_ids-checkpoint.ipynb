{
 "cells": [
  {
   "cell_type": "code",
   "execution_count": 281,
   "metadata": {},
   "outputs": [],
   "source": [
    "from clarifai.rest import ClarifaiApp\n",
    "app = ClarifaiApp(api_key='97246cf0da164fd9963b504cccaca5ba')"
   ]
  },
  {
   "cell_type": "code",
   "execution_count": 290,
   "metadata": {},
   "outputs": [],
   "source": [
    "from clarifai.rest import Image as CImage\n",
    "import json\n",
    "\n",
    "\n",
    "\n",
    "# this function returns the ingredients queried on clarifai\n",
    "def get_ingreds(img_path,url_flag=1):\n",
    "    model = app.models.get('food-items-v1.0')\n",
    "    \n",
    "    image = None\n",
    "    if(not url_flag):\n",
    "        image = CImage(file_obj=open(img_path,'rb'))\n",
    "    else:\n",
    "        image = CImage(url=\"https://samples.clarifai.com/metro-north.jpg\")\n",
    "        \n",
    "    response = model.predict([image])\n",
    "    parsed_response = json.loads(json.dumps(response))\n",
    "\n",
    "    json_dict = parsed_response['outputs'][0]['data']['concepts']\n",
    "\n",
    "    for i in json_dict:\n",
    "        print(i)\n",
    "        \n",
    "    return json.dumps(json_dict)\n",
    "\n",
    "\n",
    "# this function returns matching recipe names for the given response \n",
    "\n",
    "def get_matching_recipes(json_resp, recipes, url_flag = 1):\n",
    "    \n",
    "    # define matchingrecipes as finding the word in the list of recipes with some modifications*\n",
    "    \n",
    "    parsed_response = json.loads(json_resp)\n",
    "    recipe_score = {}\n",
    "    \n",
    "    # apply tfidf --- read from offline file \n",
    "    tfidf = {}\n",
    "    with open('all_stop_words.txt', 'r') as F:\n",
    "        lines = F.readlines()\n",
    "        for line in lines:\n",
    "            words = line.replace('\\n', '').split(' ')\n",
    "            tfidf[words[0]] = int(words[1])\n",
    "    \n",
    "   # print(tfidf)\n",
    "    \n",
    "    for response in parsed_response:\n",
    "        search_words = response['name'].lower().replace('-',' ').split(' ')\n",
    "        #print('word in image :', search_words)\n",
    "        for word in search_words:\n",
    "            for ids,recipe_name in recipes.items():\n",
    "                keywords = recipe_name.lower().replace('-',' ').split(' ')\n",
    "                #print('recipe name is ', recipe_name)\n",
    "                #print('keywords in recipe: ', keywords)\n",
    "                if word in keywords:\n",
    "                    #print('found word = ' , word, 'include ', recipe_name)\n",
    "                    \n",
    "                    word_score = 0\n",
    "                    if(word in tfidf):\n",
    "                        word_score = 1/tfidf[word]\n",
    "                    else:\n",
    "                        word_score = 1\n",
    "                    \n",
    "                    if(ids in recipe_score):\n",
    "                        recipe_score[ids] += word_score\n",
    "                    else:\n",
    "                        recipe_score[ids] = word_score\n",
    "                \n",
    "                \n",
    "        \n",
    "    recipe_score = sorted(recipe_score.items(), key=lambda x: -x[1])\n",
    "    return recipe_score\n",
    "    \n",
    "    \n",
    "    #return list(set(matching_recipes))\n"
   ]
  },
  {
   "cell_type": "code",
   "execution_count": 291,
   "metadata": {},
   "outputs": [],
   "source": [
    "def predict_ids(imgpath, url_flag=1):\n",
    "    with open('recipes.json', 'r') as F:\n",
    "        json_recipes = json.load(F)\n",
    "\n",
    "    recipes = {}\n",
    "    for data in json_recipes['recipes']:\n",
    "        recipes[data['id']] = data['name']\n",
    "\n",
    "    #print(recipes)\n",
    "    matching_ids = get_matching_recipes(get_ingreds(imgpath,url_flag), recipes, url_flag)\n",
    "    return matching_ids[:5]  # return top 5"
   ]
  },
  {
   "cell_type": "code",
   "execution_count": 292,
   "metadata": {},
   "outputs": [
    {
     "name": "stdout",
     "output_type": "stream",
     "text": [
      "{'id': 'ai_QLn2rxmZ', 'name': 'lettuce', 'value': 0.9741158485412598, 'app_id': 'main'}\n",
      "{'id': 'ai_NhSzzDVx', 'name': 'sandwich', 'value': 0.9701259136199951, 'app_id': 'main'}\n",
      "{'id': 'ai_FnZCSVMH', 'name': 'cheese', 'value': 0.9560813903808594, 'app_id': 'main'}\n",
      "{'id': 'ai_w68d36Ks', 'name': 'bread', 'value': 0.9505338668823242, 'app_id': 'main'}\n",
      "{'id': 'ai_CB8hsS3T', 'name': 'tomato', 'value': 0.9467867612838745, 'app_id': 'main'}\n",
      "{'id': 'ai_jmcSl8c1', 'name': 'bacon', 'value': 0.9225103855133057, 'app_id': 'main'}\n",
      "{'id': 'ai_KWmFf1fn', 'name': 'meat', 'value': 0.9212769865989685, 'app_id': 'main'}\n",
      "{'id': 'ai_bq67BzDJ', 'name': 'toast', 'value': 0.9096548557281494, 'app_id': 'main'}\n",
      "{'id': 'ai_H2d8CVB7', 'name': 'salad', 'value': 0.9089395999908447, 'app_id': 'main'}\n",
      "{'id': 'ai_jvVxlhLh', 'name': 'chicken', 'value': 0.7502883076667786, 'app_id': 'main'}\n",
      "{'id': 'ai_NDbbpCv1', 'name': 'vegetable', 'value': 0.748995304107666, 'app_id': 'main'}\n",
      "{'id': 'ai_KF7Xcz9J', 'name': 'onion', 'value': 0.6829631328582764, 'app_id': 'main'}\n",
      "{'id': 'ai_cF6rHV8d', 'name': 'ham', 'value': 0.6657657027244568, 'app_id': 'main'}\n",
      "{'id': 'ai_TRbv6FWL', 'name': 'pork', 'value': 0.605968713760376, 'app_id': 'main'}\n",
      "{'id': 'ai_XVpwLB09', 'name': 'beef', 'value': 0.5877938866615295, 'app_id': 'main'}\n",
      "{'id': 'ai_SqL5hFw6', 'name': 'arugula', 'value': 0.4819797873497009, 'app_id': 'main'}\n",
      "{'id': 'ai_25Wc02Fc', 'name': 'bun', 'value': 0.450261652469635, 'app_id': 'main'}\n",
      "{'id': 'ai_txxVsSL2', 'name': 'brie', 'value': 0.43161189556121826, 'app_id': 'main'}\n",
      "{'id': 'ai_JhvjJBVt', 'name': 'jam', 'value': 0.42798665165901184, 'app_id': 'main'}\n",
      "{'id': 'ai_Hj7chVRp', 'name': 'waffle', 'value': 0.4141029715538025, 'app_id': 'main'}\n"
     ]
    },
    {
     "data": {
      "text/plain": [
       "[(2982, 0.9),\n",
       " (20679, 0.5833333333333334),\n",
       " (5388, 0.4),\n",
       " (6369, 0.4),\n",
       " (4858, 0.4)]"
      ]
     },
     "execution_count": 292,
     "metadata": {},
     "output_type": "execute_result"
    }
   ],
   "source": [
    "predict_ids('images/turkey_cranberry.jpg',url_flag = 0)"
   ]
  },
  {
   "cell_type": "code",
   "execution_count": null,
   "metadata": {},
   "outputs": [],
   "source": []
  }
 ],
 "metadata": {
  "kernelspec": {
   "display_name": "Python 3",
   "language": "python",
   "name": "python3"
  },
  "language_info": {
   "codemirror_mode": {
    "name": "ipython",
    "version": 3
   },
   "file_extension": ".py",
   "mimetype": "text/x-python",
   "name": "python",
   "nbconvert_exporter": "python",
   "pygments_lexer": "ipython3",
   "version": "3.6.6"
  }
 },
 "nbformat": 4,
 "nbformat_minor": 2
}
